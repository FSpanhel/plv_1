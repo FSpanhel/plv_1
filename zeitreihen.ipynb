{
 "cells": [
  {
   "cell_type": "markdown",
   "id": "560ca5e8",
   "metadata": {
    "slideshow": {
     "slide_type": "slide"
    }
   },
   "source": [
    "**Anmerkungen zur Bedienung der interaktiven Präsentation**\n",
    "\n",
    "- Die Vortragspräsentation ist als interaktive [Rise](https://rise.readthedocs.io/en/latest/) Präsentation konzeptioniert.\n",
    "\n",
    "- Um die interaktive Präsentation zu starten, öffnen Sie bitte die URL https://tinyurl.com/fs-plv1 in ihrem Browser.\n",
    "<!-- oder scannen den QR Code -> kann ja das dann nicht bedienen? -->\n",
    "- Es kann ein wenig dauern, bis die Präsentation gestartet wird.\n",
    "- Falls die Präsentation nicht automatisch startet und Sie ein Jupyter notebook sehen, bitte laden Sie die Seite neu.\n",
    "- Die interaktive Präsentation kann mittels der Navigationspfeile oder wie folgt bedient werden:\n",
    "    - `Leertaste`: Eine Folie weiter.\n",
    "    - `Hochstelltaste + Leertaste`: Eine Folie zurück.\n",
    "    - `Strg + Enter`: Laden eines interaktiven Plots.\n",
    "    - `Alt + r`: Aktivieren bzw. Deaktivieren der Präsentation.\n",
    "    - Falls ein interaktive Plot bei Ausführung einer Code Zelle nicht richtig positioniert ist, deaktiviere und aktiviere Sie die Präsentation indem sie zwei Mal `Alt + r` drücken."
   ]
  },
  {
   "cell_type": "markdown",
   "id": "4a74207a",
   "metadata": {
    "slideshow": {
     "slide_type": "slide"
    }
   },
   "source": [
    "<div align=\"center\" style=\"font-size:60px;\">\n",
    "Probelehrveranstaltung für die Professur für Angewandte Mathematik mit Schwerpunkt Statistical Learning\n",
    "<br><br>\n",
    "Stationarität von Zeitreihen mit Anwendung an einem praktischen Beispiel\n",
    "<br><br>\n",
    "Dr. Fabian Spanhel\n",
    "<div/>\n",
    "    \n",
    "<div align=\"left\" style=\"font-size:16px;\">\n",
    "<div/>\n",
    "\n"
   ]
  },
  {
   "cell_type": "markdown",
   "id": "ba3a7682",
   "metadata": {
    "slideshow": {
     "slide_type": "slide"
    }
   },
   "source": [
    "# Einführung und Motivation"
   ]
  },
  {
   "cell_type": "markdown",
   "id": "9112498b",
   "metadata": {
    "slideshow": {
     "slide_type": "fragment"
    }
   },
   "source": [
    "<div style=\"display: flex; align-items: center; margin-top: -20px;\">\n",
    "  <div style=\"flex: 2; padding: 0px;\">\n",
    "     <img src=\"./figures/inflation.png\" alt=\"Inflationsrate\" style=\"width: 4200px; height: 620px;\"/>\n",
    "  </div>\n",
    "  <div style=\"flex: 30; padding: 100px; font-size: 25px;\">\n",
    "    <ol style=\"margin: 0; padding: 0\">\n",
    "      <li>Die <strong>Inflationsrate</strong> ist die prozentuale Veränderung der Verbraucherpreise zum Vorjahresmonat.</li>\n",
    "      <li>Aufgrund mehrerer Krisen ist die <strong>Inflationsrate</strong> seit 2 Jahren auf den höchsten Stand seit der Wiedervereinigung gestiegen.</li>\n",
    "    </ol>\n",
    "  </div>\n",
    "</div>"
   ]
  },
  {
   "cell_type": "markdown",
   "id": "765f44d8",
   "metadata": {
    "slideshow": {
     "slide_type": "slide"
    }
   },
   "source": [
    "**Was ist eine Zeitreihe?**\n",
    "<br><br>\n",
    "\n",
    "Im Folgenden, sei $T \\in \\mathbb{Z}$.\n",
    "\n",
    "Wenn wir von einer (diskreten) Zeitreihe sprechen, können damit zwei verschiedene Begriffe gemeint sein:\n",
    "<blockquote style=\"width: auto; background-color: \n",
    "                   lightyellow; color: black; \n",
    "                   margin: 70px; \n",
    "                   padding: 20px; \n",
    "                   border: 3px solid #ccc;\n",
    "                   margin-bottom: 0px;\n",
    "                   margin-top: 60px\n",
    "                   \">\n",
    "<!--\n",
    "1. Eine Zeitreihe ist eine Abfolge von Daten $(y_t)_{t=1,...,T}$, die in zeitlicher Reihenfolge angeordnet sind.\n",
    "<br><br>\n",
    "2. Eine Zeitreihe ist ein stochastischer Prozess $(Y_t)_{t\\in \\mathbb{Z}}$, d.h., ein Folge von Zufallsvariablen mit einem Index $t$, der für Zeitpunkte steht.\n",
    "-->\n",
    "<ol style=\"margin: 20; padding: 0\">\n",
    "    <li>Eine Zeitreihe ist eine <strong>Abfolge von Daten</strong> $(y_t)_{t=1,...,T}$, die in zeitlicher Reihenfolge angeordnet sind.</li>\n",
    "    <li>Eine Zeitreihe ist ein <strong>stochastischer Prozess</strong> $(Y_t)_{t\\in \\mathbb{Z}}$, d.h., ein Folge von Zufallsvariablen mit einem Index $t$, der für Zeitpunkte steht.</li>\n",
    "</ol>\n",
    "</blockquote>\n",
    "\n"
   ]
  },
  {
   "cell_type": "markdown",
   "id": "2e1872d3",
   "metadata": {
    "slideshow": {
     "slide_type": "fragment"
    }
   },
   "source": [
    "**Die Verbindung zwischen 1. und 2. ergibt sich dadurch, dass Daten $(y_t)_{t=1,...,T}$ in 1. als eine Stichprobe eines zugrunde liegenden stochastischen Prozesses $(Y_t)_{t\\in \\mathbb{Z}}$ in 2. aufgefasst werden.**"
   ]
  },
  {
   "cell_type": "markdown",
   "id": "57258c55",
   "metadata": {
    "slideshow": {
     "slide_type": "slide"
    }
   },
   "source": [
    "**Illustration des Zusammenhangs zwischen Zeitreihendaten und -prozess**"
   ]
  },
  {
   "cell_type": "code",
   "execution_count": null,
   "id": "bf6f9905",
   "metadata": {
    "hide_input": false,
    "slideshow": {
     "slide_type": "fragment"
    }
   },
   "outputs": [],
   "source": [
    "%matplotlib ipympl\n",
    "from plv.plot import data_vs_process\n",
    "data_vs_process(figsize=(14, 6.5))"
   ]
  },
  {
   "cell_type": "markdown",
   "id": "4ea96cf4",
   "metadata": {
    "slideshow": {
     "slide_type": "slide"
    }
   },
   "source": [
    "# Stationarität"
   ]
  },
  {
   "cell_type": "markdown",
   "id": "1e0d6c83",
   "metadata": {
    "slideshow": {
     "slide_type": "fragment"
    }
   },
   "source": [
    "<br>\n",
    "\n",
    "- Für die statistische Analyse und Modellierung von Zeitreihen müssen Annahmen getroffen werden, da in der Praxis meist nur eine Realisierung des datengenerierenden Prozesses vorliegt.\n",
    "\n",
    "<!--\n",
    "- Neben Ergodizität ist Stationarität eine bedeutende Eigenschaft eines stochastischen Prozesses.\n",
    "-->\n",
    "<!-- - Es gibt zwei Definition von Stationarität, die Klasse der stochastischen Prozess einschränken.\n",
    "-->\n",
    "- Wir konzentieren uns hier auf die sogenannte **schwache Stationarität**."
   ]
  },
  {
   "cell_type": "markdown",
   "id": "0fc37784",
   "metadata": {
    "slideshow": {
     "slide_type": "fragment"
    }
   },
   "source": [
    "<blockquote style=\"width: auto; background-color: \n",
    "                   lightyellow; color: black; \n",
    "                   margin: 70px; \n",
    "                   padding: 20px; \n",
    "                   border: 3px solid #ccc;\n",
    "                   margin-bottom: 0px;\n",
    "                   margin-top: 10px\n",
    "                   \">\n",
    "Definition: (<strong>Schwache Stationarität</strong>)<br>\n",
    "Ein stochastischer Prozess $(Y_t)_{t\\in \\mathbb{Z}}$ ist schwach stationär $:\\!\\!\\iff$\n",
    "<br><br>\n",
    "1. $E[Y_t] = \\mu \\in \\mathbb{R}$ <br>\n",
    "2. $Cov[Y_t, Y_{t-h}] = \\gamma(h) \\in \\mathbb{R}$\n",
    "<br><br>\n",
    "für alle $t, h \\in \\mathbb{Z}$.\n",
    "</blockquote>"
   ]
  },
  {
   "cell_type": "markdown",
   "id": "bae81488",
   "metadata": {
    "slideshow": {
     "slide_type": "slide"
    }
   },
   "source": [
    "**Der einfachste (schwach) stationäre Prozess**\n",
    "<br><br>\n",
    "\n",
    "<blockquote style=\"width: auto; background-color: \n",
    "                   lightyellow; color: black; \n",
    "                   margin: 70px; \n",
    "                   padding: 20px; \n",
    "                   border: 3px solid #ccc\n",
    "                   \">\n",
    "Definition: (<strong>Weißes Rauschen</strong>)<br>\n",
    "$(U_t)_{t\\in \\mathbb{Z}}$ ist Weißes Rauschen $:\\!\\!\\iff$ Für alle $t, h \\in \\mathbb{Z}$, mit $t\\neq h$ gilt:\n",
    "<br>\n",
    "\n",
    "1. $E[U_t] = 0$\n",
    "2. $Var[U_t] = \\sigma^2_U \\in \\mathbb{R}$\n",
    "3. $Cov[U_t, U_h] = 0$\n",
    "</blockquote>"
   ]
  },
  {
   "cell_type": "markdown",
   "id": "a5874919",
   "metadata": {
    "slideshow": {
     "slide_type": "slide"
    }
   },
   "source": [
    "**Die Klasse der (linearen) AR(1) Prozesse**\n",
    "<blockquote style=\"width: auto; background-color: \n",
    "                   lightyellow; color: black; \n",
    "                   margin: 70px; \n",
    "                   padding: 20px; \n",
    "                   border: 3px solid #ccc;\n",
    "                   margin-bottom: 0px;\n",
    "                   margin-top: 50px\n",
    "                   \">\n",
    "Definition: (<strong>Autoregressiver Prozess der Ordnung 1</strong>)<br>\n",
    "$(Y_t)_{t\\in \\mathbb{Z}}$ ist ein autoregressiver Prozess der Ordnung 1  $:\\!\\!\\iff$<br> Für alle ${t\\in \\mathbb{Z}}$ gilt\n",
    "\n",
    "$\n",
    "\\begin{align}\n",
    "Y_t &= c + aY_{t-1} + U_{t}\n",
    "\\end{align}\n",
    "$\n",
    "\n",
    "wobei $(U_t)_{t\\in \\mathbb{Z}}$ Weißes Rauschen ist.\n",
    "</blockquote>\n",
    "\n",
    "- Wir bezeichnen diese Prozesse auch kurz als AR(1) Prozesse.\n",
    "\n",
    "- Die Zufallsvariable $Y_t$ ist also linear abhängig von der Zufallsvariable $Y_{t-1}$ davor und einem Zufallsfehler $U_t$.\n",
    "- Frage: Ist $(Y_t)_{t\\in \\mathbb{Z}}$ (schwach) stationär?"
   ]
  },
  {
   "cell_type": "markdown",
   "id": "d0a0bba3",
   "metadata": {
    "slideshow": {
     "slide_type": "slide"
    }
   },
   "source": [
    "**Simulation von Realisierungen eines AR(1) Prozesses**\n",
    "- Um diese Frage zu untersuchen, ist es hilfreich Realisierungen des Prozesses zu generieren.\n",
    "\n",
    "- Wie können wir $T$ Realisierungen eines AR(1) Prozess $Y_t = c + a Y_{t-1} + U_t$ generieren?"
   ]
  },
  {
   "cell_type": "markdown",
   "id": "63f749cb",
   "metadata": {
    "slideshow": {
     "slide_type": "notes"
    }
   },
   "source": [
    "```python\n",
    "import numpy as np\n",
    "\n",
    "T = 10\n",
    "(c, a) = (0, 0.5)\n",
    "\n",
    "u = np.random.normal(size=T)\n",
    "y = np.zeros(T)\n",
    "for t in range(1, T):\n",
    "    y[t] = c + a * y[t-1] + u[t] \n",
    "    \n",
    "print(y)\n",
    "```"
   ]
  },
  {
   "cell_type": "code",
   "execution_count": null,
   "id": "e5b111c4",
   "metadata": {
    "cell_style": "center",
    "lines_to_next_cell": 2,
    "slideshow": {
     "slide_type": "fragment"
    }
   },
   "outputs": [],
   "source": [
    "import numpy as np\n",
    "\n",
    "(c, a) = (0, 0.5)\n",
    "T = 10\n",
    "u = np.random.normal(size=T)\n",
    "y = np.zeros(T)\n",
    "\n",
    "for t in range(T):\n",
    "    y[t] = c + a * y[t-1] + u[t]\n",
    "    \n",
    "print(y)"
   ]
  },
  {
   "cell_type": "markdown",
   "id": "bf7d5512",
   "metadata": {
    "slideshow": {
     "slide_type": "slide"
    }
   },
   "source": [
    "Simulation von Realisierungen eines AR(1) Prozesses"
   ]
  },
  {
   "cell_type": "code",
   "execution_count": null,
   "id": "c45fae3d",
   "metadata": {
    "slideshow": {
     "slide_type": "-"
    }
   },
   "outputs": [],
   "source": [
    "%matplotlib ipympl\n",
    "from plv.plot import sim_ar\n",
    "sim_ar(figsize=(16, 6))"
   ]
  },
  {
   "cell_type": "markdown",
   "id": "bb2f09ab",
   "metadata": {
    "slideshow": {
     "slide_type": "slide"
    }
   },
   "source": [
    "Simulation von Realisierungen eines AR(1) Prozesses: Analyse der Stationarität"
   ]
  },
  {
   "cell_type": "code",
   "execution_count": null,
   "id": "6c38d82a",
   "metadata": {
    "slideshow": {
     "slide_type": "-"
    }
   },
   "outputs": [],
   "source": [
    "%matplotlib ipympl\n",
    "sim_ar(figsize=(16, 6), plot_mean_var=True)"
   ]
  },
  {
   "cell_type": "markdown",
   "id": "b7f7b7af",
   "metadata": {
    "slideshow": {
     "slide_type": "slide"
    }
   },
   "source": [
    "**Skizze des Beweis für die schwache Stationarität des AR(1) Prozesses**\n",
    "<blockquote style=\"width: auto; background-color: \n",
    "                   lightyellow; color: black; \n",
    "                   margin: 70px; \n",
    "                   padding: 5px; \n",
    "                   border: 3px solid #ccc;\n",
    "                   margin-bottom: -0px;\n",
    "                   margin-top: 70px\n",
    "                   \">\n",
    "Theorem: (<strong>Hinreichende Bedingungen für die Stationarität eines AR(1) Prozesses</strong>)<br>\n",
    "Sei $Y_t = aY_{t-1} + U_t$, wobei $(U_t)_{t \\in \\mathbb{Z}}$ Weißes Rauschen ist und $\\sup_{t \\in \\mathbb{Z}} E[Y_t^2] < \\infty$. <br><br>\n",
    "Falls $|a| < 1$,  dann ist $(Y_t)_{t \\in \\mathbb{Z}}$ schwach stationär.\n",
    "</blockquote>\n",
    "\n",
    "- Der Beweis dieses Theorems erfordert Kenntnisse der Maß- und Integrationstheorie.\n",
    "\n",
    "- Im Folgenden wird der Beweis nur skizziert."
   ]
  },
  {
   "cell_type": "markdown",
   "id": "0474baf7",
   "metadata": {
    "slideshow": {
     "slide_type": "slide"
    }
   },
   "source": [
    "**Beweisidee: Limes Repräsentation von $Y_t$ als eine Funktion von $(U_t)_{t \\in \\mathbb{Z}}$**\n",
    "\n",
    "- Rekursive Substituierung führt zu\n",
    "\n",
    "    $\n",
    "    \\begin{align}\n",
    "    Y_t & = aY_{t-1} + U_t = a(aY_{t-2} + U_{t-1}) + U_t = \\ldots = a^h Y_{t-h} + \\sum_{i=0}^{h-1}a^{i}U_{t-i} =: X_h\n",
    "    \\end{align}\n",
    "    $"
   ]
  },
  {
   "cell_type": "markdown",
   "id": "56523745",
   "metadata": {
    "slideshow": {
     "slide_type": "fragment"
    }
   },
   "source": [
    "- Was passiert mit $X_h$, wenn $h\\to\\infty$? \n",
    "<!-- &#9888;&#65039; $X_h$ ist eine Zufallsvariable. -->"
   ]
  },
  {
   "cell_type": "markdown",
   "id": "5888c883",
   "metadata": {
    "slideshow": {
     "slide_type": "fragment"
    }
   },
   "source": [
    "- Man kann zeigen, dass $\\exists X \\in L^2\\colon X_h \\stackrel{2}{\\to} X$ falls die Annahmen des Theorems erfüllt sind und unter ihrer wiederholte Anwendung folgern, dass \n",
    "\n",
    "    $\n",
    "    \\begin{align*}\n",
    "    E[Y_t] & = 0\n",
    "    \\\\\n",
    "    Cov[Y_t, Y_{t-h}] \n",
    "    & = a^h\\frac{\\sigma_U^2}{1-a^2} \\in \\mathbb{R}\n",
    "    \\end{align*}\n",
    "    $\n",
    "\n",
    "<!--\n",
    "$\n",
    "\\begin{align*}\n",
    "E[Y_t] &= 0, \\quad\n",
    "Cov[Y_t, Y_{t-h}] = a^h\\frac{\\sigma_U^2}{1-a^2} \\in \\mathbb{R}\n",
    "\\end{align*}\n",
    "$\n",
    "-->\n",
    "\n",
    "<!--\n",
    "$\n",
    "\\begin{align*}\n",
    "E[Y_t] & = 0\n",
    "\\\\\n",
    "Cov[Y_t, Y_{t-h}] \n",
    "& = a^h\\frac{\\sigma_U^2}{1-a^2}\n",
    "\\end{align*}\n",
    "$\n",
    "Somit ist $E[Y_t]=0$ und $\\gamma(t, h) \\in \\mathbb{R}$ hängt nicht von $t$ ab. Folglich ist $(Y_t)_{t \\in \\mathbb{Z}}$ stationär. &#11035;\n",
    "-->"
   ]
  },
  {
   "cell_type": "markdown",
   "id": "127c5497",
   "metadata": {
    "slideshow": {
     "slide_type": "slide"
    }
   },
   "source": [
    "# Praktische Anwendung: Modellierung und Prognose der Inflationsrate"
   ]
  },
  {
   "cell_type": "markdown",
   "id": "a0bc2a34",
   "metadata": {
    "slideshow": {
     "slide_type": "fragment"
    }
   },
   "source": [
    "<br>\n",
    "\n",
    "- Im Folgenden schätzen wir AR(1) Prozesse mittels des Kleinsten Quadrate Schätzers für mehrere \"in-sample\" Zeiträume.\n",
    "\n",
    "- Ein \"in-sample\" Zeitraum der Länge $T$ beinhaltet die Daten, die für die Schätzung benutzt werden,\n",
    "    und geht von Stichprobenanfang bis zu einem gewissen Monat. \n",
    "- Die \"out-of-sample\" Daten sind dann die Daten nach diesem Monat.\n",
    "- Für diese \"out-of-sample\" Daten machen wir ab dem Zeitpunkt $T$ eine **Mehrschrittprognose** $\\text{Pred}_T[Y_{T+h}], h\\geq 1$, die rekursiv gegeben ist durch\n",
    "\n",
    "$$\\text{Pred}_T[Y_{T+h}] = a\\text{Pred}_T[Y_{T+h-1}]$$"
   ]
  },
  {
   "cell_type": "markdown",
   "id": "0954396b",
   "metadata": {
    "slideshow": {
     "slide_type": "slide"
    }
   },
   "source": [
    "**Modellierung der Inflationsrate mit einem AR(1) Prozess**"
   ]
  },
  {
   "cell_type": "code",
   "execution_count": null,
   "id": "a6182567",
   "metadata": {
    "slideshow": {
     "slide_type": "-"
    }
   },
   "outputs": [],
   "source": [
    "%matplotlib ipympl\n",
    "from plv.plot import forecast_inflation\n",
    "forecast_inflation(figsize=(16, 5.4))"
   ]
  },
  {
   "cell_type": "markdown",
   "id": "1298dd4c",
   "metadata": {
    "slideshow": {
     "slide_type": "slide"
    }
   },
   "source": [
    "**Beobachtungen:**\n",
    "- Die Annahme der schwachen Stationarität ist ab der Corona Krise fraglich.\n",
    "- Auch wenn der geschätzte autoregressive Parameter $a$ des AR(1) Prozesses kleiner als 1 ist, wenn man bis zum aktuellsten Monat schätzt, so ist die langfristige Prognose eventuell zu hoch.\n",
    "\n",
    "**Frage:**\n",
    "\n",
    "Wie können wir unsere Modellierung verändern, falls die Ereignisse im Zeitraum Krise = [Januar 2020, Februar 2023] eine Ausnahme darstellen und diese die langfristige Prognose der Inflation nicht beeinflussen sollten?"
   ]
  },
  {
   "cell_type": "markdown",
   "id": "ede18e4f",
   "metadata": {
    "slideshow": {
     "slide_type": "fragment"
    }
   },
   "source": [
    "**Idee:**\n",
    "\n",
    "Definiere die Krisen Dummy $D_t$, so dass $D_t = 1$ wenn $t \\in \\text{Krise}$ und 0 sonst, und schätze\n",
    "$\\begin{align}Y_t = c + aY_{t-1} + \\delta D_t + U_t\\end{align}$."
   ]
  },
  {
   "cell_type": "markdown",
   "id": "ef65db7d",
   "metadata": {
    "slideshow": {
     "slide_type": "slide"
    }
   },
   "source": [
    "**Modellierung der Inflationsrate mit einem AR(1) Prozess mit Dummy**"
   ]
  },
  {
   "cell_type": "code",
   "execution_count": null,
   "id": "c1f69526",
   "metadata": {
    "slideshow": {
     "slide_type": "-"
    }
   },
   "outputs": [],
   "source": [
    "%matplotlib ipympl\n",
    "forecast_inflation(dummy=True, figsize=(16, 5.4))"
   ]
  },
  {
   "cell_type": "markdown",
   "id": "808e2528",
   "metadata": {
    "lines_to_next_cell": 2,
    "slideshow": {
     "slide_type": "slide"
    }
   },
   "source": [
    "# Zusammenfassung\n",
    "<br>\n",
    "\n",
    "- Wir haben den Zusammenhang zwischen einem Zeitreihenprozess und -daten illustriert.\n",
    "\n",
    "- Wir haben die Definition der (schwache) Stationarität kennen gelernt.\n",
    "- Wir haben den (linearen) AR(1) Prozess kennengelernt und untersucht wann er stationär ist.\n",
    "- Durch eine praktische Anwendung des AR(1) Prozess anhand der Modellierung der Inflationsrate haben wir das Konzept der Stationarität weiter vertieft und kritisch hinterfragt.\n"
   ]
  },
  {
   "cell_type": "markdown",
   "id": "f3cd7ed1",
   "metadata": {
    "slideshow": {
     "slide_type": "slide"
    }
   },
   "source": [
    "# Literatur\n",
    "\n",
    "Hamilton, James D. Time Series Analysis. Princeton University Press, 1994. https://doi.org/10.2307/j.ctv14jx6sm.\n",
    "\n",
    "Lütkepohl, Helmut. New Introduction to Multiple Time Series Analysis. Springer, 2005. https://doi.org/10.1007/978-3-540-27752-1"
   ]
  }
 ],
 "metadata": {
  "celltoolbar": "Slideshow",
  "jupytext": {
   "comment_magics": false
  },
  "kernelspec": {
   "display_name": "Python 3 (ipykernel)",
   "language": "python",
   "name": "python3"
  },
  "language_info": {
   "codemirror_mode": {
    "name": "ipython",
    "version": 3
   },
   "file_extension": ".py",
   "mimetype": "text/x-python",
   "name": "python",
   "nbconvert_exporter": "python",
   "pygments_lexer": "ipython3",
   "version": "3.11.4"
  },
  "rise": {
   "autolaunch": true,
   "scroll": true
  },
  "toc": {
   "base_numbering": 1,
   "nav_menu": {},
   "number_sections": true,
   "sideBar": false,
   "skip_h1_title": false,
   "title_cell": "Table of Contents",
   "title_sidebar": "Contents",
   "toc_cell": false,
   "toc_position": {
    "height": "632.431px",
    "left": "0px",
    "top": "200px",
    "width": "360px"
   },
   "toc_section_display": true,
   "toc_window_display": false
  }
 },
 "nbformat": 4,
 "nbformat_minor": 5
}
