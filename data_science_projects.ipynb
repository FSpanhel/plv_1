{
 "cells": [
  {
   "cell_type": "markdown",
   "id": "e9d823c9",
   "metadata": {
    "slideshow": {
     "slide_type": "slide"
    }
   },
   "source": [
    "**Anmerkungen zur Bedienung der interaktiven Präsentation**\n",
    "\n",
    "- Die Vortragspräsentation ist als interaktive [Rise](https://rise.readthedocs.io/en/latest/) Präsentation konzeptioniert.\n",
    "\n",
    "- Um die interaktive Präsentation zu starten, öffnen Sie bitte die URL https://tinyurl.com/fs-plv2 in ihrem Browser.\n",
    "<!-- oder scannen den QR Code -> kann ja das dann nicht bedienen? -->\n",
    "- Es kann ein wenig dauern, bis die Präsentation gestartet wird.\n",
    "- Falls die Präsentation nicht automatisch startet und Sie ein Jupyter notebook sehen, bitte laden Sie die Seite neu.\n",
    "- Die interaktive Präsentation kann mittels der Navigationspfeile oder wie folgt bedient werden:\n",
    "    - `Leertaste`: Eine Folie weiter.\n",
    "    - `Hochstelltaste + Leertaste`: Eine Folie zurück.\n",
    "    - `Strg + Enter`: Laden eines interaktiven Plots.\n",
    "    - `Alt + r`: Aktivieren bzw. Deaktivieren der Präsentation.\n",
    "    - Falls ein interaktive Plot bei Ausführung einer Code Zelle nicht richtig positioniert ist, deaktiviere und aktiviere Sie die Präsentation indem sie zwei Mal `Alt + r` drücken."
   ]
  },
  {
   "cell_type": "markdown",
   "id": "de235377",
   "metadata": {
    "slideshow": {
     "slide_type": "slide"
    }
   },
   "source": [
    "<div align=\"center\" style=\"font-size:60px;\">\n",
    "Probelehrveranstaltung für die Professur für Angewandte Mathematik mit Schwerpunkt Statistical Learning\n",
    "<br><br>\n",
    "Data Science Projects\n",
    "<br><br>\n",
    "Dr. Fabian Spanhel\n",
    "<div/>\n",
    "    \n",
    "<div align=\"left\" style=\"font-size:16px;\">\n",
    "<div/>"
   ]
  },
  {
   "cell_type": "markdown",
   "id": "50f72467",
   "metadata": {
    "slideshow": {
     "slide_type": "slide"
    }
   },
   "source": [
    "**How has data science changed in the last years?**\n",
    "- From on-premise to cloud.\n",
    "\n",
    "- From POC to production.\n",
    "- No unicorns anymore but the data science role is getting split into multiple specialized roles \n",
    "\n",
    "    -> ML & Data Engineering roles have emerged.\n",
    "- In general, sofware engineering skills and MLOps have become more important.\n",
    "- ...\n",
    "\n",
    "\n",
    "\n",
    "\n"
   ]
  },
  {
   "cell_type": "markdown",
   "id": "8ac9af3c",
   "metadata": {
    "slideshow": {
     "slide_type": "fragment"
    }
   },
   "source": [
    "See also [\"**Is Data Scientist Still the Sexiest Job of the 21st Century?**\"](https://hbr.org/2022/07/is-data-scientist-still-the-sexiest-job-of-the-21st-century)\n",
    "\n",
    "**The goal of this course is to address the changes that have occurred in recent years and provide students with skills that might gain them a competitive advantage.**"
   ]
  },
  {
   "cell_type": "markdown",
   "id": "4f717f8f",
   "metadata": {
    "slideshow": {
     "slide_type": "slide"
    }
   },
   "source": [
    "**Data Science Project Workflow**\n",
    "<img src=\"./figures/ds_project_0.png\" alt=\"Data Science Projects\" style=\"width: 1600px;\"/>"
   ]
  },
  {
   "cell_type": "markdown",
   "id": "37376531",
   "metadata": {
    "slideshow": {
     "slide_type": "subslide"
    }
   },
   "source": [
    "**Data Science Project Workflow**\n",
    "<img src=\"./figures/ds_project_1.png\" alt=\"Data Science Projects\" style=\"width: 1600px;\"/>"
   ]
  },
  {
   "cell_type": "markdown",
   "id": "c3a067c5",
   "metadata": {
    "slideshow": {
     "slide_type": "subslide"
    }
   },
   "source": [
    "**Data Science Project Workflow**\n",
    "<img src=\"./figures/ds_project_2.png\" alt=\"Data Science Projects\" style=\"width: 1600px;\"/>"
   ]
  },
  {
   "cell_type": "markdown",
   "id": "e18c86a7",
   "metadata": {
    "slideshow": {
     "slide_type": "subslide"
    }
   },
   "source": [
    "**Data Science Project Workflow**\n",
    "<img src=\"./figures/ds_project_3.png\" alt=\"Data Science Projects\" style=\"width: 1600px;\"/>"
   ]
  },
  {
   "cell_type": "markdown",
   "id": "5aa5da18",
   "metadata": {
    "slideshow": {
     "slide_type": "slide"
    }
   },
   "source": [
    "**AWS Cloud services**\n",
    "\n",
    "- Interacting with cloud services is a demanded skill for Data Scientists and will become even more important.\n",
    "\n",
    "- We will cover the fundamental services of AWS in this course and learn how to\n",
    "    - Store and retrieve data, such as files and backups, using **S3**.\n",
    "    - Leverage scalable cloud-based compute capacity using **EC2**.\n",
    "    - To build, train, and deploy ML models with **Sagemaker**.\n",
    "- Optional: Glue & Athena, Lambda functions...\n",
    "- How to interact with various AWS services using Python and the **boto3** package.\n",
    "\n",
    "**We will be using AWS for the hands-on project in this course!**"
   ]
  },
  {
   "cell_type": "markdown",
   "id": "0227019e",
   "metadata": {
    "slideshow": {
     "slide_type": "slide"
    }
   },
   "source": [
    "**Methodology: Model tuning for time series** \n",
    "\n",
    "- $K$-fold cross-validation is most commonly used to tune the hyperparameters of a model.\n",
    "- It is typically based on the assumption of iid data.\n",
    "- How to do cross-validation when we have temporal dependence?"
   ]
  },
  {
   "cell_type": "markdown",
   "id": "6090f8fa",
   "metadata": {
    "slideshow": {
     "slide_type": "fragment"
    }
   },
   "source": [
    "- $K$-fold cross-validation can be used in [special cases](https://www.sciencedirect.com/science/article/abs/pii/S0167947317302384).\n",
    "- In general, cross-validation must consider existing dependence of the data to prevent [data leakage](https://en.wikipedia.org/wiki/Leakage_(machine_learning).\n",
    "- Data leakage is a [serious problem in academica and industry](doi:10.1016/j.patter.2023.100804).\n"
   ]
  },
  {
   "cell_type": "markdown",
   "id": "f7e12712",
   "metadata": {
    "slideshow": {
     "slide_type": "subslide"
    }
   },
   "source": [
    "**Model tuning with time series cross-validation**\n",
    "<div style=\"display: flex; align-items: left;\">\n",
    "  <div style=\"flex: 1; padding: 30px; font-size: 25px;\">\n",
    "    <ol style=\"margin: 200; padding: 0\">\n",
    "      <li>Model training: A predictive model is trained on training data of length $T_{train}$.</li>\n",
    "      <li>Validation: The model is scored on validation data of length $T_{val}$.</li>\n",
    "      <li>Shifting: The end of the new training data is increased to $T_{train} + T_{val}$.</li>\n",
    "      <li>Repeat Steps 1 - 3 until $T_{val} = 0$.</li>\n",
    "      <li>Performance evaluation: Aggregate validation scores.</li>\n",
    "    </ol>\n",
    "  </div>\n",
    "  <div style=\"flex: 2; padding: 0px;\">\n",
    "      <img src=\"./figures/ts_split.png\" alt=\"Time Series Cross Validation\" style=\"width: 700px;\"/>\n",
    "  </div>\n",
    "</div>\n",
    "\n",
    "Questions:\n",
    "<ul style=\"margin: 200; padding: 0; font-size: 25px; margin-top: -20px\">\n",
    "  <li>How to specify ($T_{train}$, $T_{val}$) or the resulting folds?</li>\n",
    "  <li>How to optimize the training length? Use $(w_tY_t)_{t=1,\\ldots T_{train}}$ as training data, where $(w_t)_{t=1}^{T}$ is increasing in $t$ and can be obtained via cross-validation?</li>\n",
    "  <li>Should the aggregation of validation scores be weighted equally, or should the results of validation sets closer to today be weighted more heavily?</li>\n",
    "  <li>How to actually split the data into folds? </li>\n",
    "</ul>\n",
    " \n",
    "<!-- To the best of my knowledge there is no package available that covers important practical cases \n",
    "(split w.r.t. date, a set of time series, groups)\n",
    "-->\n",
    "<span style=\"font-size: 30px; margin-top: -20px\">**These questions will be investigated with a hands-on project in this course!**</span>"
   ]
  },
  {
   "cell_type": "markdown",
   "id": "eedd5172",
   "metadata": {
    "slideshow": {
     "slide_type": "slide"
    }
   },
   "source": [
    "**MLOps: Managing the ML lifecycle with MLflow**\n"
   ]
  },
  {
   "cell_type": "markdown",
   "id": "dbd229db",
   "metadata": {
    "slideshow": {
     "slide_type": "fragment"
    }
   },
   "source": [
    "[MLflow](https://mlflow.org/) is an open-source platform for managing the machine learning lifecycle with the following features\n",
    "1. **Tracking**: MLflow tracks experiments, metrics, parameters, and artifacts for easy comparison and result reproducibility.\n",
    "2. **Registry**: MLflow's model registry organizes and versions models for collaboration and governance.\n",
    "3. **Models**: MLflow offers a model management component for packaging models in a standard format and deploying them to various platforms.\n",
    "4. **UI and API**: MLflow offers a web-based UI and REST API for interactive exploration and programmatic access.\n",
    "\n",
    "Integrated in DataBricks and 15.5k stars on GitHub (October 2023)\n",
    "\n",
    "**We will use Mlflow for the project in this course to manage the machine learning lifecycle!**"
   ]
  },
  {
   "cell_type": "markdown",
   "id": "1f9248f8",
   "metadata": {
    "slideshow": {
     "slide_type": "slide"
    }
   },
   "source": [
    "**MLflow Demo**"
   ]
  },
  {
   "cell_type": "markdown",
   "id": "831d1053",
   "metadata": {
    "slideshow": {
     "slide_type": "fragment"
    }
   },
   "source": [
    "The following code snippet uses `mlflow.autolog` to automatically track the cross-validation of a `RandomForestRegressor` on a diabetes dataset."
   ]
  },
  {
   "cell_type": "code",
   "execution_count": null,
   "id": "fa991b8c",
   "metadata": {
    "code_folding": [],
    "slideshow": {
     "slide_type": "-"
    }
   },
   "outputs": [],
   "source": [
    "import mlflow\n",
    "from sklearn.model_selection import train_test_split\n",
    "from sklearn.datasets import load_diabetes\n",
    "from sklearn.ensemble import RandomForestRegressor\n",
    "\n",
    "mlflow.autolog()\n",
    "db = load_diabetes()\n",
    "\n",
    "def run(): \n",
    "    X_train, X_test, y_train, y_test = train_test_split(db.data, db.target)\n",
    "    rf = RandomForestRegressor(n_estimators=100, max_depth=6, max_features=3)\n",
    "    rf.fit(X_train, y_train)\n",
    "    predictions = rf.predict(X_test)\n",
    "    \n",
    "run()"
   ]
  },
  {
   "cell_type": "markdown",
   "id": "f5b05624",
   "metadata": {
    "slideshow": {
     "slide_type": "subslide"
    }
   },
   "source": [
    "We now start the MLflow tracking server."
   ]
  },
  {
   "cell_type": "code",
   "execution_count": null,
   "id": "14095f63",
   "metadata": {
    "slideshow": {
     "slide_type": "-"
    }
   },
   "outputs": [],
   "source": [
    "!mlflow ui   "
   ]
  },
  {
   "cell_type": "markdown",
   "id": "78492810",
   "metadata": {
    "slideshow": {
     "slide_type": "-"
    }
   },
   "source": [
    "And open the [MLflow user interface](http://127.0.0.1:5000) (won't work if you are not executing this presentation on your local machine)"
   ]
  },
  {
   "cell_type": "markdown",
   "id": "e15bd736",
   "metadata": {
    "slideshow": {
     "slide_type": "slide"
    }
   },
   "source": [
    "**Building Apps with Streamlit**\n",
    "- Streamlit turns data scripts into shareable web apps in minutes and exhibits the following features.\n",
    "    - **Rapid Development**: Simplifies web app creation with minimal Python code, ideal for non-web developers.\n",
    "    - **Code reuse**: Seamlessly integrates with data science libraries (e.g., Pandas, Matplotlib) for code reuse.\n",
    "    - **Interactive Widgets & Real-time Updates**: Offers various widgets for easy data and model interaction and enables dynamic data visualization.\n",
    "\n",
    "- Trusted by over 80% of Fortune 50 companies and integrated in Snowflake. 27.8k stars on GitHub (October 2023).\n",
    "<!--- Not the right tool for complex interfaces and/or nested state.-->\n",
    "- Examples: [Analytics Dashoboard](https://shamiraty-streamlit-dashboard-descriptive-analytics-home-5ks7sm.streamlit.app/), [MathGPT](https://mathgpt.streamlit.app/).\n",
    "\n",
    "**We will be using Streamlit to build an App for the machine learning model of our project!**"
   ]
  },
  {
   "cell_type": "markdown",
   "id": "6c9a60b4",
   "metadata": {
    "slideshow": {
     "slide_type": "slide"
    }
   },
   "source": [
    "**Learning objectives** \n",
    "<br>\n",
    "\n",
    "Students will experience the entire **Data Science workflow**, from defining the task to serving the model via an application or dashboard, through projects. \n",
    "<div style=\"display: flex; align-items: center; margin-top: -40px;\">\n",
    "  <div style=\"flex: 3; padding: 40px; font-size: 35px;\">\n",
    "    <ul style=\"list-style-type: disc; font-size: 30px; margin: 0; padding: 0;\">\n",
    "        <li>Deal with common problems when working with <strong>tabular data</strong>.</li>\n",
    "        <li>Differentiate between <strong>prediction</strong> and <strong>causal inference</strong> tasks.</li>\n",
    "        <li>Utilize <strong>cloud services</strong> for model training.</li>\n",
    "        <li>Tackle model tuning in the presence of <strong>temporal dependence</strong> and perform multi-step forecasts.</li>\n",
    "        <li><strong>Track</strong> models with MLflow.</li>\n",
    "        <li><strong>Deploy</strong> machine learning models using Streamlit.</li>\n",
    "    </ul>\n",
    "  </div>\n",
    "  <div style=\"flex: 0.1; padding: 50px;\">\n",
    "     <img src=\"./figures/ds_project_3.png\" alt=\"Data Science Projects\"/>\n",
    "  </div>\n",
    "</div>\n"
   ]
  },
  {
   "cell_type": "markdown",
   "id": "fe31bb26",
   "metadata": {
    "slideshow": {
     "slide_type": "slide"
    }
   },
   "source": [
    "**References**\n",
    "\n",
    "Bergmeir C., Hyndman R. J., Koo B. \"A note on the validity of cross-validation for evaluating autoregressive time series prediction\". Computational Statistics & Data Analysis, Volume 120, 2018, Pages 70-83.\n",
    "https://doi.org/10.1016/j.csda.2017.11.003.\n",
    "\n",
    "Guts Y. \"Target Leaking in Machine Learning\". AI Ukraine Conference 2018. https://www.youtube.com/watch?v=dWhdWxgt5SU\n",
    "\n",
    "Kapoor, S., Narayanan, A. \"Leakage and the reproducibility crisis in machine-learning-based science\". Patterns, 100804, August 2023. https://doi:10.1016/j.patter.2023.100804.\n"
   ]
  },
  {
   "cell_type": "markdown",
   "id": "36db35d4",
   "metadata": {
    "slideshow": {
     "slide_type": "slide"
    }
   },
   "source": [
    "# Appendix"
   ]
  },
  {
   "cell_type": "markdown",
   "id": "c913477d",
   "metadata": {
    "slideshow": {
     "slide_type": "slide"
    }
   },
   "source": [
    "**Methodology: Multi-step forecasts**"
   ]
  },
  {
   "cell_type": "markdown",
   "id": "57a8ba52",
   "metadata": {
    "slideshow": {
     "slide_type": "fragment"
    }
   },
   "source": [
    "- In practice, one often has to provide multi-step forecasts $\\big(\\text{Pred}_t[Y_{t+h}]\\big)_{h=1, \\ldots, H}$.\n",
    "- How can we obtain this sequence of forecasts?\n"
   ]
  },
  {
   "cell_type": "markdown",
   "id": "67b309b7",
   "metadata": {
    "slideshow": {
     "slide_type": "fragment"
    }
   },
   "source": [
    "- Recall: If $Y_t = aY_{t-1} + U_t$ then $\\text{Pred}_t[Y_{t+h}] = a\\text{Pred}_t[Y_{t+h-1}]$.\n"
   ]
  },
  {
   "cell_type": "markdown",
   "id": "274ea872",
   "metadata": {
    "slideshow": {
     "slide_type": "fragment"
    }
   },
   "source": [
    "- What if $Y_t = f(Y_{t-1}) + U_t$?"
   ]
  },
  {
   "cell_type": "markdown",
   "id": "f6127a47",
   "metadata": {
    "slideshow": {
     "slide_type": "fragment"
    }
   },
   "source": [
    "- Can we use $\\text{Pred}_t[Y_{t+h}] = f\\left(\\text{Pred}_t[Y_{t+h-1}]\\right)$?"
   ]
  },
  {
   "cell_type": "markdown",
   "id": "2fc6f626",
   "metadata": {
    "slideshow": {
     "slide_type": "subslide"
    }
   },
   "source": [
    "**Multi-step forecasts with features**\n",
    "\n",
    "\n",
    "- What if $Y_t = f(Y_{t-1}, X_{t-1}) + U_t$ and we don't know $(X_{t})_{h=t+1,\\ldots, t+H}$? \n",
    "- If $Y_t = aY_{t-1} + bX_{t-1} + U_t$, we have that\n",
    "\n",
    "    $\n",
    "    \\begin{align}\n",
    "    \\text{Pred}_t[Y_{t+1}] & = aY_{t} + bX_{t}\\phantom{....}\n",
    "    \\end{align}\n",
    "    $\n",
    "\n",
    "    but because we don't know $\\text{Pred}_t[X_{t+1}]$ we cannot compute\n",
    "\n",
    "    $\n",
    "    \\begin{align}\n",
    "    & \\text{Pred}_t[Y_{t+2}] = a\\text{Pred}_t[Y_{t+1}] + b\\text{Pred}_t[X_{t+1}]\n",
    "    \\end{align}\n",
    "    $"
   ]
  },
  {
   "cell_type": "markdown",
   "id": "974a6ef4",
   "metadata": {
    "slideshow": {
     "slide_type": "fragment"
    }
   },
   "source": [
    "- Possible solutions:\n",
    "    1. Set up a model for $X_t$, e.g., $X_t = r(X_{t-1}, Y_{t-1}) + V_t$, to get the **indirect forecast**\n",
    "    \n",
    "        $\\text{Pred}_t[Y_{t+h}] = f(\\text{Pred}_t[Y_{t+h-1}], \\text{Pred}_t[X_{t+h-1}])$\n",
    "    2. For each forecast horizon $h$, set up a model $Y_{t+h} = f_h(Y_{t-1}, X_{t-1}) + U_{t,h}$ to get the **direct forecast** \n",
    "    \n",
    "        $\\text{Pred}_t[Y_{t+h}] = f_h(Y_{t-1}, X_{t-1})$"
   ]
  },
  {
   "cell_type": "markdown",
   "id": "b26330cd",
   "metadata": {
    "slideshow": {
     "slide_type": "subslide"
    }
   },
   "source": [
    "**Multi-step forecasts with features: Possible solutions**\n",
    "\n",
    "1. Get the **indirect forecast**\n",
    "\n",
    "    $\\text{Pred}_t[Y_{t+h}] = f(\\text{Pred}_t[Y_{t+h-1}], \\text{Pred}_t[X_{t+h-1}])$\n",
    "2. Get the **direct forecast**\n",
    "\n",
    "    $\\text{Pred}_t[Y_{t+h}] = f_h(Y_{t-1}, X_{t-1})$\n",
    "- Note that 1. increases in the number of features, whereas 2. increases in the number of forecast horizons $h$.\n",
    "- How to tune the corresponding models of 1. and 2.?\n",
    "- How can we handle the data to do direct and indirect forecasts?\n",
    "- Which approach is better?"
   ]
  },
  {
   "cell_type": "markdown",
   "id": "ebd5f0a1",
   "metadata": {
    "slideshow": {
     "slide_type": "fragment"
    }
   },
   "source": [
    "**These questions will be investigated with a hands-on project in this course!**"
   ]
  }
 ],
 "metadata": {
  "celltoolbar": "Slideshow",
  "jupytext": {
   "comment_magics": false
  },
  "kernelspec": {
   "display_name": "Python 3 (ipykernel)",
   "language": "python",
   "name": "python3"
  },
  "language_info": {
   "codemirror_mode": {
    "name": "ipython",
    "version": 3
   },
   "file_extension": ".py",
   "mimetype": "text/x-python",
   "name": "python",
   "nbconvert_exporter": "python",
   "pygments_lexer": "ipython3",
   "version": "3.11.4"
  },
  "rise": {
   "autolaunch": true,
   "scroll": true,
   "transition": "fade"
  },
  "toc": {
   "base_numbering": 1,
   "nav_menu": {},
   "number_sections": true,
   "sideBar": true,
   "skip_h1_title": false,
   "title_cell": "Table of Contents",
   "title_sidebar": "Contents",
   "toc_cell": false,
   "toc_position": {},
   "toc_section_display": true,
   "toc_window_display": false
  }
 },
 "nbformat": 4,
 "nbformat_minor": 5
}
