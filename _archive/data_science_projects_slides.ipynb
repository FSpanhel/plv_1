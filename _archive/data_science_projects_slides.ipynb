{
 "cells": [
  {
   "cell_type": "markdown",
   "id": "8b93cec8",
   "metadata": {
    "slideshow": {
     "slide_type": "slide"
    }
   },
   "source": [
    "**Anmerkungen zur Bedienung der interaktiven Präsentation**\n",
    "\n",
    "- Die Vortragspräsentation ist als interaktive [Rise](https://rise.readthedocs.io/en/latest/) Präsentation konzeptioniert.\n",
    "\n",
    "- Um die interaktive Präsentation zu starten, öffnen Sie bitte die URL https://tinyurl.com/fs-plv2 in ihrem Browser.\n",
    "<!-- oder scannen den QR Code -> kann ja das dann nicht bedienen? -->\n",
    "- Es kann ein wenig dauern, bis die Präsentation gestartet wird.\n",
    "- Falls die Präsentation nicht automatisch startet und Sie ein Jupyter notebook sehen, bitte laden Sie die Seite neu.\n",
    "- Die interaktive Präsentation kann mittels der Navigationspfeile oder wie folgt bedient werden:\n",
    "    - `Leertaste`: Eine Folie weiter.\n",
    "    - `Hochstelltaste + Leertaste`: Eine Folie zurück.\n",
    "    - `Strg + Enter`: Laden eines interaktiven Plots.\n",
    "    - `Alt + r`: Aktivieren bzw. Deaktivieren der Präsentation.\n",
    "    - Falls ein interaktive Plot bei Ausführung einer Code Zelle nicht richtig positioniert ist, deaktiviere und aktiviere Sie die Präsentation indem sie zwei Mal `Alt + r` drücken."
   ]
  },
  {
   "cell_type": "markdown",
   "id": "de235377",
   "metadata": {
    "slideshow": {
     "slide_type": "slide"
    }
   },
   "source": [
    "<div align=\"center\" style=\"font-size:60px;\">\n",
    "Probelehrveranstaltung für die Professur für Angewandte Mathematik mit Schwerpunkt Statistical Learning\n",
    "<br><br>\n",
    "Data Science Projects\n",
    "<br><br>\n",
    "Dr. Fabian Spanhel\n",
    "<div/>\n",
    "    \n",
    "<div align=\"left\" style=\"font-size:16px;\">\n",
    "<div/>"
   ]
  },
  {
   "cell_type": "markdown",
   "id": "e0e0658b",
   "metadata": {
    "slideshow": {
     "slide_type": "notes"
    }
   },
   "source": [
    "1. Welcome to my second presentation which is about data science projects.\n",
    "2. Data science projects is a lecture that is targeted at master students who like to work in the data science domain.\n",
    "3. This lecutre is the follow-up **to** the lecture Data Science Challenge / Projekt which I lecture at the moment for the bachelor students of Data Science and scientific computing.\n",
    "4. Just like DVC this lecture emphasis is on practical skills, problem-solving, and the ability to use data science tools and methods in practical scenarios.\n",
    "5. For this purpose, this course provides hands-on projects and case studies."
   ]
  },
  {
   "cell_type": "markdown",
   "id": "50f72467",
   "metadata": {
    "slideshow": {
     "slide_type": "slide"
    }
   },
   "source": [
    "**How has data science changed in the last years?**\n",
    "- From on-premise to cloud.\n",
    "\n",
    "- From POC to production.\n",
    "- No unicorns anymore but the data science role is getting split into multiple specialized roles \n",
    "\n",
    "    -> ML & Data Engineering roles have emerged.\n",
    "- In general, sofware engineering skills and MLOps have become more important.\n",
    "- ...\n",
    "\n",
    "\n",
    "\n",
    "\n"
   ]
  },
  {
   "cell_type": "markdown",
   "id": "ef203dc6",
   "metadata": {
    "slideshow": {
     "slide_type": "notes"
    }
   },
   "source": [
    "1. What practical skills should students or graduates have these days?\n",
    "2. Well, let's take a look back at the last seven years that have passed since I've been working in the industry.\n",
    "3. First of all, the tools with which data scientist work have changed a lot. Ten years ago, it was like the wild west and there were few tools and standards available.\n",
    "    - Most importantly, analytics as well as development and management of ML models have largely shifted to the cloud for several reasons.\n",
    "4. Relatively speaking, there are less POCs and more models are put into production and need to be managed. As a consequence, software engineering becomes more crucial.\n",
    "5. Previously, a data scienctist was a unicorn, meaning they did all required tasks — from conceptualizing the use case, to \n",
    "interfacing with business and technology stakeholders, to developing the algorithm and deploying it into production. \n",
    "While this may still be true, there is a **continued differentiation of responsibilities**. Like **machine learning engineers**, **data engineers**, **advanced analytics**, and **data oriented product managers**."
   ]
  },
  {
   "cell_type": "markdown",
   "id": "8ac9af3c",
   "metadata": {
    "slideshow": {
     "slide_type": "fragment"
    }
   },
   "source": [
    "See also [\"**Is Data Scientist Still the Sexiest Job of the 21st Century?**\"](https://hbr.org/2022/07/is-data-scientist-still-the-sexiest-job-of-the-21st-century)\n",
    "\n",
    "**The goal of this course is to address the changes that have occurred in recent years and provide students with skills that might gain them a competitive advantage.**"
   ]
  },
  {
   "cell_type": "markdown",
   "id": "4f717f8f",
   "metadata": {
    "slideshow": {
     "slide_type": "slide"
    }
   },
   "source": [
    "**Data Science Project Workflow**\n",
    "<img src=\"./figures/ds_project_0.png\" alt=\"Data Science Projects\" style=\"width: 1600px;\"/>"
   ]
  },
  {
   "cell_type": "markdown",
   "id": "0d2082f4",
   "metadata": {
    "slideshow": {
     "slide_type": "notes"
    }
   },
   "source": [
    "1. In general, a data science project is often a cross-functional project that requires team to work together.\n",
    "    1. On the left hand side we have the business intelligence or analytics people, or people with a math/stats background (blue) and on the right we have people with an information science background or software engineers (green).\n",
    "    1. This color gradient should highlight that boundaries between these roles are not strict and evolving."
   ]
  },
  {
   "cell_type": "markdown",
   "id": "37376531",
   "metadata": {
    "slideshow": {
     "slide_type": "subslide"
    }
   },
   "source": [
    "**Data Science Project Workflow**\n",
    "<img src=\"./figures/ds_project_1.png\" alt=\"Data Science Projects\" style=\"width: 1600px;\"/>"
   ]
  },
  {
   "cell_type": "markdown",
   "id": "e6093001",
   "metadata": {
    "slideshow": {
     "slide_type": "notes"
    }
   },
   "source": [
    "1. The center of a data science project is data.\n",
    "1. This data is used to kick-off a POC or to do an ad hoc analysis."
   ]
  },
  {
   "cell_type": "markdown",
   "id": "c3a067c5",
   "metadata": {
    "slideshow": {
     "slide_type": "subslide"
    }
   },
   "source": [
    "**Data Science Project Workflow**\n",
    "<img src=\"./figures/ds_project_2.png\" alt=\"Data Science Projects\" style=\"width: 1600px;\"/>"
   ]
  },
  {
   "cell_type": "markdown",
   "id": "2da8a891",
   "metadata": {
    "slideshow": {
     "slide_type": "notes"
    }
   },
   "source": [
    "1. The outcome of this POC or ad hoc analysis could be a report/app.\n",
    "1. Or it could be deployment and management of a machine learning model.\n",
    "    1. This model could also then end in an app or dashboard."
   ]
  },
  {
   "cell_type": "markdown",
   "id": "e18c86a7",
   "metadata": {
    "slideshow": {
     "slide_type": "subslide"
    }
   },
   "source": [
    "**Data Science Project Workflow**\n",
    "<img src=\"./figures/ds_project_3.png\" alt=\"Data Science Projects\" style=\"width: 1600px;\"/>"
   ]
  },
  {
   "cell_type": "markdown",
   "id": "f836ba89",
   "metadata": {
    "slideshow": {
     "slide_type": "notes"
    }
   },
   "source": [
    "\n",
    "\n",
    "\n",
    "1. So what skills are needed in this data science project workflow?\n",
    "1. Regarding POC/ad hoch analyses\n",
    "    - Communication is very important. But this best learned in the industry. (viele Fehler)\n",
    "    - Dev:\n",
    "        - local / cloud + Metaflow\n",
    "        - \n",
    "    - Sensibilisieren Kausalität, Trade-off Prediction und Causal Inference.\n",
    "1. Depending on the organization a data scientist might involved or not involved in MLOps. Irrespective of that, there are skills that a data scientist can process to support the interaction with ML or software engineers. -> passt nicht, hier eher sagen dass da auch stats skills gebraucht werden\n",
    "    - MLOps\n",
    "        - Model, Feature & Target drift\n",
    "1. Regarding Apps/Dashboard.\n",
    "    - Especially for POCs the ability to provide an application is crucial. It is important that a DS can present his results. Früher war das schwierig, weil man einen FrontEnd Entwickler brauchte. Heute ist das spielend einfach mit Streamlit. man muss nur wissen dass es das gibt.\n",
    "    \n",
    "For this presentation, I pick some skills/tools and give a short introduction so that it's possible to get an impression of what to expect from this course."
   ]
  },
  {
   "cell_type": "markdown",
   "id": "5aa5da18",
   "metadata": {
    "slideshow": {
     "slide_type": "slide"
    }
   },
   "source": [
    "**AWS Cloud services**\n",
    "\n",
    "- Interacting with cloud services is a demanded skill for Data Scientists and will become even more important.\n",
    "\n",
    "- We will cover the fundamental services of AWS in this course and learn how to\n",
    "    - Store and retrieve data, such as files and backups, using **S3**.\n",
    "    - Leverage scalable cloud-based compute capacity using **EC2**.\n",
    "    - To build, train, and deploy ML models with **Sagemaker**.\n",
    "- Optional: Glue & Athena, Lambda functions...\n",
    "- How to interact with various AWS services using Python and the **boto3** package.\n",
    "\n",
    "**We will be using AWS for the hands-on project in this course!**"
   ]
  },
  {
   "cell_type": "markdown",
   "id": "0227019e",
   "metadata": {
    "slideshow": {
     "slide_type": "slide"
    }
   },
   "source": [
    "**Methodology: Model tuning for time series** \n",
    "\n",
    "- $K$-fold cross-validation is most commonly used to tune the hyperparameters of a model.\n",
    "- It is typically based on the assumption of iid data.\n",
    "- How to do cross-validation when we have temporal dependence?"
   ]
  },
  {
   "cell_type": "markdown",
   "id": "6090f8fa",
   "metadata": {
    "slideshow": {
     "slide_type": "fragment"
    }
   },
   "source": [
    "- $K$-fold cross-validation can be used in [special cases](https://www.sciencedirect.com/science/article/abs/pii/S0167947317302384).\n",
    "- In general, cross-validation must consider existing dependence of the data to prevent [data leakage](https://en.wikipedia.org/wiki/Leakage_(machine_learning).\n",
    "- Data leakage is a [serious problem in academica and industry](doi:10.1016/j.patter.2023.100804).\n"
   ]
  },
  {
   "cell_type": "markdown",
   "id": "f7e12712",
   "metadata": {
    "slideshow": {
     "slide_type": "subslide"
    }
   },
   "source": [
    "**Model tuning with time series cross-validation**\n",
    "\n",
    "- Model training: A predictive model is trained on training data of length $T_{train}$.\n",
    "- Validation: The model is scored on validation data of length $T_{val}$.\n",
    "- Shifting: The end of the new training data is increased to $T_{train} + T_{val}$.\n",
    "- Repeat Steps 1 - 3 until $T_{val} = 0$.\n",
    "- Performance evaluation: Aggregate validation scores.\n",
    "\n",
    "Questions:\n",
    "- How to specify ($T_{train}$, $T_{val}$) or the resulting folds?\n",
    "- How to optimize the training length? Use $(w_tY_t)_{t=1,\\ldots T_{train}}$ as training data, where $(w_t)_{t=1}^{T}$ is increasing in $t$ and can be obtained via cross-validation?\n",
    "- Should the aggregation of validation scores be weighted equally, or should the results of validation sets closer to today be weighted more heavily?\n",
    "- How to actually split the data into folds?\n",
    "\n",
    "**These questions will be investigated with a hands-on project in this course!**"
   ]
  },
  {
   "cell_type": "markdown",
   "id": "eedd5172",
   "metadata": {
    "slideshow": {
     "slide_type": "slide"
    }
   },
   "source": [
    "**MLOps: Managing the ML lifecycle with MLflow**\n"
   ]
  },
  {
   "cell_type": "markdown",
   "id": "dbd229db",
   "metadata": {
    "slideshow": {
     "slide_type": "fragment"
    }
   },
   "source": [
    "[MLflow](https://mlflow.org/) is an open-source platform for managing the machine learning lifecycle with the following features\n",
    "1. **Tracking**: MLflow tracks experiments, metrics, parameters, and artifacts for easy comparison and result reproducibility.\n",
    "2. **Registry**: MLflow's model registry organizes and versions models for collaboration and governance.\n",
    "3. **Models**: MLflow offers a model management component for packaging models in a standard format and deploying them to various platforms.\n",
    "4. **UI and API**: MLflow offers a web-based UI and REST API for interactive exploration and programmatic access.\n",
    "\n",
    "Integrated in DataBricks and 15.5k stars on GitHub (October 2023)\n",
    "\n",
    "**We will use Mlflow for the project in this course to manage the machine learning lifecycle!**"
   ]
  },
  {
   "cell_type": "markdown",
   "id": "50836d75",
   "metadata": {
    "slideshow": {
     "slide_type": "notes"
    }
   },
   "source": [
    "Who knows MLflow?"
   ]
  },
  {
   "cell_type": "markdown",
   "id": "1f9248f8",
   "metadata": {
    "slideshow": {
     "slide_type": "slide"
    }
   },
   "source": [
    "**MLflow Demo**"
   ]
  },
  {
   "cell_type": "markdown",
   "id": "831d1053",
   "metadata": {
    "slideshow": {
     "slide_type": "fragment"
    }
   },
   "source": [
    "The following code snippet uses `mlflow.autolog` to automatically track the cross-validation of a `RandomForestRegressor` on a diabetes dataset."
   ]
  },
  {
   "cell_type": "code",
   "execution_count": null,
   "id": "fa991b8c",
   "metadata": {
    "code_folding": [],
    "slideshow": {
     "slide_type": "-"
    }
   },
   "outputs": [],
   "source": [
    "import mlflow\n",
    "from sklearn.model_selection import train_test_split\n",
    "from sklearn.datasets import load_diabetes\n",
    "from sklearn.ensemble import RandomForestRegressor\n",
    "\n",
    "mlflow.autolog()\n",
    "db = load_diabetes()\n",
    "\n",
    "def run(): \n",
    "    X_train, X_test, y_train, y_test = train_test_split(db.data, db.target)\n",
    "    rf = RandomForestRegressor(n_estimators=100, max_depth=6, max_features=3)\n",
    "    rf.fit(X_train, y_train)\n",
    "    predictions = rf.predict(X_test)\n",
    "    \n",
    "run()"
   ]
  },
  {
   "cell_type": "markdown",
   "id": "f5b05624",
   "metadata": {
    "slideshow": {
     "slide_type": "subslide"
    }
   },
   "source": [
    "We now start the MLflow tracking server."
   ]
  },
  {
   "cell_type": "code",
   "execution_count": null,
   "id": "14095f63",
   "metadata": {
    "slideshow": {
     "slide_type": "-"
    }
   },
   "outputs": [],
   "source": [
    "!mlflow ui   "
   ]
  },
  {
   "cell_type": "markdown",
   "id": "78492810",
   "metadata": {
    "slideshow": {
     "slide_type": "-"
    }
   },
   "source": [
    "And open the [MLflow user interface](http://127.0.0.1:5000) (won't work if you are not executing this presentation on your local machine)"
   ]
  },
  {
   "cell_type": "markdown",
   "id": "e15bd736",
   "metadata": {
    "slideshow": {
     "slide_type": "slide"
    }
   },
   "source": [
    "**Building Apps with Streamlit**\n",
    "- Streamlit turns data scripts into shareable web apps in minutes and exhibits the following features.\n",
    "    - **Rapid Development**: Simplifies web app creation with minimal Python code, ideal for non-web developers.\n",
    "    - **Code reuse**: Seamlessly integrates with data science libraries (e.g., Pandas, Matplotlib) for code reuse.\n",
    "    - **Interactive Widgets & Real-time Updates**: Offers various widgets for easy data and model interaction and enables dynamic data visualization.\n",
    "\n",
    "- Trusted by over 80% of Fortune 50 companies and integrated in Snowflake. 27.8k stars on GitHub (October 2023).\n",
    "<!--- Not the right tool for complex interfaces and/or nested state.-->\n",
    "- Examples: [Analytics Dashoboard](https://shamiraty-streamlit-dashboard-descriptive-analytics-home-5ks7sm.streamlit.app/), [MathGPT](https://mathgpt.streamlit.app/).\n",
    "\n",
    "**We will be using Streamlit to build an App for the machine learning model of our project!**"
   ]
  },
  {
   "cell_type": "markdown",
   "id": "f004cf6a",
   "metadata": {
    "slideshow": {
     "slide_type": "notes"
    }
   },
   "source": [
    "Who knows Streamlit?"
   ]
  },
  {
   "cell_type": "markdown",
   "id": "6c9a60b4",
   "metadata": {
    "slideshow": {
     "slide_type": "slide"
    }
   },
   "source": [
    "**Learning objectives** \n",
    "<br>\n",
    "\n",
    "Students will experience the entire **Data Science workflow**, from defining the task to serving the model via an application or dashboard, through projects. \n",
    "\n",
    "- Deal with common problems when working with **tabular data**.\n",
    "\n",
    "- Differentiate between **prediction** and **causal inference** tasks.\n",
    "- Utilize **cloud services** for model training.\n",
    "- Tackle model tuning in the presence of **temporal dependence** and perform multi-step forecasts.\n",
    "- **Track** models with MLflow.\n",
    "- **Deploy** machine learning models using Streamlit.\n",
    "\n"
   ]
  },
  {
   "cell_type": "markdown",
   "id": "fe31bb26",
   "metadata": {
    "slideshow": {
     "slide_type": "slide"
    }
   },
   "source": [
    "**References**\n",
    "\n",
    "Bergmeir C., Hyndman R. J., Koo B. \"A note on the validity of cross-validation for evaluating autoregressive time series prediction\". Computational Statistics & Data Analysis, Volume 120, 2018, Pages 70-83.\n",
    "https://doi.org/10.1016/j.csda.2017.11.003.\n",
    "\n",
    "Guts Y. \"Target Leaking in Machine Learning\". AI Ukraine Conference 2018. https://www.youtube.com/watch?v=dWhdWxgt5SU\n",
    "\n",
    "Kapoor, S., Narayanan, A. \"Leakage and the reproducibility crisis in machine-learning-based science\". Patterns, 100804, August 2023. https://doi:10.1016/j.patter.2023.100804.\n"
   ]
  }
 ],
 "metadata": {
  "celltoolbar": "Slideshow",
  "jupytext": {
   "comment_magics": false
  },
  "kernelspec": {
   "display_name": "Python 3 (ipykernel)",
   "language": "python",
   "name": "python3"
  },
  "language_info": {
   "codemirror_mode": {
    "name": "ipython",
    "version": 3
   },
   "file_extension": ".py",
   "mimetype": "text/x-python",
   "name": "python",
   "nbconvert_exporter": "python",
   "pygments_lexer": "ipython3",
   "version": "3.11.4"
  },
  "rise": {
   "autolaunch": true,
   "scroll": true,
   "transition": "fade"
  },
  "toc": {
   "base_numbering": 1,
   "nav_menu": {},
   "number_sections": true,
   "sideBar": true,
   "skip_h1_title": false,
   "title_cell": "Table of Contents",
   "title_sidebar": "Contents",
   "toc_cell": false,
   "toc_position": {},
   "toc_section_display": true,
   "toc_window_display": false
  }
 },
 "nbformat": 4,
 "nbformat_minor": 5
}
