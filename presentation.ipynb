{
 "cells": [
  {
   "cell_type": "code",
   "execution_count": 2,
   "id": "74da380c",
   "metadata": {
    "slideshow": {
     "slide_type": "skip"
    }
   },
   "outputs": [
    {
     "data": {
      "text/html": [
       "<style>.container { width:95% !important; }</style>"
      ],
      "text/plain": [
       "<IPython.core.display.HTML object>"
      ]
     },
     "metadata": {},
     "output_type": "display_data"
    }
   ],
   "source": [
    "from IPython.display import display, HTML\n",
    "display(HTML(\"<style>.container { width:95% !important; }</style>\"))"
   ]
  },
  {
   "cell_type": "markdown",
   "id": "a0897eaa",
   "metadata": {
    "slideshow": {
     "slide_type": "slide"
    }
   },
   "source": [
    "[TODO] \n",
    "- QR Code zu Binder Präsentation, Tiny URL verwenden?\n",
    "- Es kann bis zu 30 Sekunden dauern, bis die Präsentation gestartet wird.\n",
    "- Kurzes Intro zu Bedienung:\n",
    "    - Space\n",
    "    - Shift + Tab\n",
    "    - Zommen der Website"
   ]
  },
  {
   "cell_type": "markdown",
   "id": "4a74207a",
   "metadata": {
    "slideshow": {
     "slide_type": "slide"
    }
   },
   "source": [
    "<div align=\"center\" style=\"font-size:70px;\">\n",
    "Probelehrveranstaltung für die Professur für Angewandte Mathematik mit Schwerpunkt Statistical Learning\n",
    "<br><br>\n",
    "Stationarität von Zeitreihen mit Anwendung an einem praktischen Beispiel\n",
    "<div/>\n",
    "    \n",
    "<div align=\"left\" style=\"font-size:16px;\">\n",
    "<div/>\n",
    "\n"
   ]
  },
  {
   "cell_type": "markdown",
   "id": "a7b5923c",
   "metadata": {
    "slideshow": {
     "slide_type": "notes"
    }
   },
   "source": [
    "[TODO] Evtl. TOC?\n",
    "- About me\n",
    "- Einführung und Motivation [5 Min]\n",
    "- Stationarität\n",
    "    - Definition [4 Min]\n",
    "    - Illustration anhand AR(1) [6 Min]\n",
    "    - Testen von Stationarität [4 Min]\n",
    "- Praktische Anwendung auf X Daten [10 Min]"
   ]
  },
  {
   "cell_type": "markdown",
   "id": "aaf46440",
   "metadata": {
    "slideshow": {
     "slide_type": "slide"
    }
   },
   "source": [
    "# About me [TODO: Auf Deutsch]\n",
    "<br>\n",
    "<br>\n",
    "<div style=\"font-size:40px;\">\n",
    "Dr. rer. nat. Fabian Spanhel\n",
    "<div/>\n",
    "    \n",
    "<div align=\"left\" style=\"font-size:32px;\">\n",
    "<div/>\n",
    "<br>\n",
    "\n",
    "- Studies in economics with a focus on econometrics & statistics\n",
    "- PhD in statistics\n",
    "- Since November 2016 working as a Data Scientist at ProSiebenSat.1"
   ]
  },
  {
   "cell_type": "markdown",
   "id": "3f4327ee",
   "metadata": {
    "slideshow": {
     "slide_type": "slide"
    }
   },
   "source": [
    "# Einführung und Motivation\n",
    "Wenn wir von einer (diskreten) Zeitreihe sprechen, können damit zwei verschiedene Begriffe gemeint sein:\n",
    "1. Eine Zeitreihe ist eine Abfolge von Daten, die in zeitlicher Reihenfolge angeordnet sind -> Beispiele.\n",
    "2. Eine Zeitreihe ist ein stochastischer Prozess, d.h., ein Folge von Zufallsvariablen mit einem Index der für Zeitpunkte steht.\n",
    "\n",
    "**Die Verbindung zwischen 1. und 2. ergibt sich dadruch, dass (in der Statistik) Daten in 1. als eine Stichprobe oder Realisierung eines zugrunde liegenden stochastischen Prozess in 2. aufgefasst werden.**\n",
    "\n",
    "\n",
    "Eine (diskrete) Zeitreihe ist eine zeitlich geordnete Folge statistischer Maßzahlen.\n",
    "\n",
    "\n",
    "äquidistant\n",
    "\n",
    "Warum Zeitreihen modellieren sinnvoll ist"
   ]
  },
  {
   "cell_type": "markdown",
   "id": "06aeb015",
   "metadata": {
    "slideshow": {
     "slide_type": "slide"
    }
   },
   "source": [
    "## Illustration des Zusammenhangs zwischen Zeitreihendaten und -prozess"
   ]
  },
  {
   "cell_type": "markdown",
   "id": "63b65fc7",
   "metadata": {},
   "source": [
    "## Annahmen an einen Zeitreihenprozess für die statistische Inferenz und Modellierung"
   ]
  },
  {
   "cell_type": "code",
   "execution_count": null,
   "id": "985ca1b5",
   "metadata": {},
   "outputs": [],
   "source": [
    "Für die statistische Inferenz mit Zeitreihen müssen Annahmen getroffen werden, da in der Praxis meist nur eine Realisierung des die Zeitreihe generierenden Prozesses vorliegt. Die Annahme der Ergodizität bedeutet, dass Stichprobenmomente, die aus einer endlichen Zeitreihe gewonnen werden, für \n",
    "�\n",
    "→\n",
    "∞T\\rightarrow \\infty  quasi gegen die Momente der Grundgesamtheit konvergieren."
   ]
  },
  {
   "cell_type": "markdown",
   "id": "6ff251d7",
   "metadata": {
    "slideshow": {
     "slide_type": "slide"
    }
   },
   "source": [
    "# Stationarität"
   ]
  },
  {
   "cell_type": "markdown",
   "id": "ceda1320",
   "metadata": {
    "slideshow": {
     "slide_type": "slide"
    }
   },
   "source": [
    "## (Strikte Stationarität) und Kovarianzstationarität \n",
    "Frage hier an die Studierenden: Welche Definition ist stärker?\n",
    "Evtl. hier auch wieder Grafik mit 4 Punkten und daran sichtbar machen (auf ZVs Ebene)\n",
    "    Mittelwert der Trajektorien sollte gleich sein"
   ]
  },
  {
   "cell_type": "markdown",
   "id": "d617a8cf",
   "metadata": {
    "slideshow": {
     "slide_type": "notes"
    }
   },
   "source": [
    "Evtl. Beispiel für Zeitreihenprozesse, sind die stationär? Darüber abstimmen, mit ja/nein/weiß nicht/kommt drauf an (Es reicht wenn sie die Erwartungs- und Varianzstationarität überprüfen)\n",
    "1. iid Exponential\n",
    "2. MA(1)\n",
    "3. AR(1)"
   ]
  },
  {
   "cell_type": "markdown",
   "id": "12da8340",
   "metadata": {
    "slideshow": {
     "slide_type": "slide"
    }
   },
   "source": [
    "## Illustration anhand der Simulation eines (linearen) AR(1) Prozesses"
   ]
  },
  {
   "cell_type": "markdown",
   "id": "f1a9cb8f",
   "metadata": {
    "slideshow": {
     "slide_type": "notes"
    }
   },
   "source": [
    "1. Modellgleichung\n",
    "    1. Autoregressive weil auf sich selbst regressiert, der Ordnung 1 weil ein Lag\n",
    "    1. Was bedeutet das? Was ist a?\n",
    "    1. Was ist wenn a negativ ist? Interessant weil ich sehr gut schätzen kann (Bild mit Normalverteilung)\n",
    "1. Simulationsbilder in Abhängigkeit von a\n",
    "    1. Simulation nicht stationär weil wir immer mit gleichen Wert starten, aber schauen wir mal was passiert\n",
    "1.\tTheoretischen Beweis skizzieren (schon sophisticated, bei Copulas einfacher)\n",
    "    1. Nur mean stationarität zeigen\n",
    "    1.\tBeweis für Kovarianzstationarität analog (Kovarianz auch nur Erwartungswert), oder E[Y_tY_{t-h}^k], k = 0, 1\n",
    "    1.\tBeweis für strikt stationär schwierig, aber auch |a| <=1\n",
    "        1.\tStärkere Annahmen and die Abhängigkeit der Störterme\n",
    "        2.\tKeine geschlossene Form für die Multivariate Verteilung im allgemeinen (nur durch Simulationen möglich)"
   ]
  },
  {
   "cell_type": "markdown",
   "id": "7fb543c5",
   "metadata": {
    "slideshow": {
     "slide_type": "slide"
    }
   },
   "source": [
    "## Testen auf Stationarität"
   ]
  },
  {
   "cell_type": "markdown",
   "id": "ed0b0480",
   "metadata": {
    "slideshow": {
     "slide_type": "slide"
    }
   },
   "source": [
    "Angenommen unsere Daten werden durch den vorher beschriebenen AR(1) Prozess generiert, wie könnte somit ein Test auf (schwache) Stationarität aussehen?\n",
    "\n",
    "Wie könnte die Null- und Alternativhypothese aussehen?"
   ]
  },
  {
   "cell_type": "markdown",
   "id": "bb50bdee",
   "metadata": {
    "slideshow": {
     "slide_type": "fragment"
    }
   },
   "source": [
    "1. Die vorherigen Simulationen vorhin haben illustriert und der Beweis gezeigt, dass ein AR(1) Prozess (schwach) stationär ist solange |a| < 1 ist.\n",
    "2. Man könnte also H_0: |a| >= 1 vs. H_1: |a| < 1.\n",
    "3. Da in der Praxis in der Regel a >= 0, Vereinfachung zu H_0: a >= 1 vs. H_1: a < 1"
   ]
  },
  {
   "cell_type": "markdown",
   "id": "e16db699",
   "metadata": {
    "slideshow": {
     "slide_type": "slide"
    }
   },
   "source": [
    "## The (augmented) Dickey-Fuller Test\n",
    "5. Der Dickey-Fuller Test macht das im Prinzip (verwendet aber die Differenzen)\n",
    "5. Erweiterung zum Augmented Dickey-Fuller Test\n",
    "\n",
    "Der (A)DF Test ist vermutlich der populärste Test für die (schwache) Stationarität einer Zeitreihen.\n",
    "Allerdings ist der damit auch vermutlich einer der Tests dessen Annahmen nicht erfüllt sind.\n",
    "- Die Zeitreihendaten werden durch einen (linearen) autoregressiven Prozess generiert.\n",
    "- Die Störterme/Innovationen des Process sind iid N(0, \\sigma^2)\n"
   ]
  },
  {
   "cell_type": "markdown",
   "id": "75c01522",
   "metadata": {
    "slideshow": {
     "slide_type": "notes"
    }
   },
   "source": [
    "Diskussion: 1. Annahme approximation okay, 2. aber eigentlich nie erfüllt.\n",
    "\n",
    "Evtl. Simulation zeigen, dass ADF Test nicht covered wenn Störterme N(0, \\sigma^2)"
   ]
  },
  {
   "cell_type": "markdown",
   "id": "5eed0899",
   "metadata": {
    "slideshow": {
     "slide_type": "slide"
    }
   },
   "source": [
    "## Wie teste ich auf Stationarität in der Praxis?\n",
    "1.\tTheoretisches Resultat dass es keinen Test gibt der das asymptotische immer zeigen kann\n",
    "    1.\tVll. davor: Zeitreihen simulieren von statistischen Prozessen (u.a. Copula) und Frage ob schwach stationär (evtl. hierzu abstimmen)\n",
    "1.\tIn der Praxis: Eher inhaltliche Überlegungen\n",
    "    1.\tDeterministische Trends: Saisonalität \n",
    "1.\tDavon abgesehen: Man kann nicht stationäre Prozess auch mit stationären approximieren (in der next step vorhersage), klappt ganz okay soweit nicht zu weit weg von \n"
   ]
  },
  {
   "cell_type": "markdown",
   "id": "787e019a",
   "metadata": {
    "slideshow": {
     "slide_type": "slide"
    }
   },
   "source": [
    "# Praktische Anwendung"
   ]
  },
  {
   "cell_type": "markdown",
   "id": "b6d1d113",
   "metadata": {
    "slideshow": {
     "slide_type": "slide"
    }
   },
   "source": [
    "# Literatur"
   ]
  }
 ],
 "metadata": {
  "celltoolbar": "Slideshow",
  "jupytext": {
   "comment_magics": false
  },
  "kernelspec": {
   "display_name": "Python 3 (ipykernel)",
   "language": "python",
   "name": "python3"
  },
  "language_info": {
   "codemirror_mode": {
    "name": "ipython",
    "version": 3
   },
   "file_extension": ".py",
   "mimetype": "text/x-python",
   "name": "python",
   "nbconvert_exporter": "python",
   "pygments_lexer": "ipython3",
   "version": "3.11.4"
  },
  "rise": {
   "autolaunch": true,
   "footer": "<h3>Dr. Fabian Spanhel</h3>",
   "header": "<h3>Stationarität von Zeitreihen mit Anwendung an einem praktischen Beispiel</h3>"
  },
  "toc": {
   "base_numbering": 1,
   "nav_menu": {},
   "number_sections": true,
   "sideBar": false,
   "skip_h1_title": false,
   "title_cell": "Table of Contents",
   "title_sidebar": "Contents",
   "toc_cell": false,
   "toc_position": {
    "height": "632.431px",
    "left": "0px",
    "top": "200px",
    "width": "360px"
   },
   "toc_section_display": true,
   "toc_window_display": false
  }
 },
 "nbformat": 4,
 "nbformat_minor": 5
}
